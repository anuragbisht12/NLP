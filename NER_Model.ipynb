{
  "nbformat": 4,
  "nbformat_minor": 0,
  "metadata": {
    "colab": {
      "name": "NER Model.ipynb",
      "provenance": [],
      "authorship_tag": "ABX9TyO7pA2xmrVMwiQ/belVp2aX",
      "include_colab_link": true
    },
    "kernelspec": {
      "name": "python3",
      "display_name": "Python 3"
    }
  },
  "cells": [
    {
      "cell_type": "markdown",
      "metadata": {
        "id": "view-in-github",
        "colab_type": "text"
      },
      "source": [
        "<a href=\"https://colab.research.google.com/github/anuragbisht12/NLP/blob/master/NER_Model.ipynb\" target=\"_parent\"><img src=\"https://colab.research.google.com/assets/colab-badge.svg\" alt=\"Open In Colab\"/></a>"
      ]
    },
    {
      "cell_type": "code",
      "metadata": {
        "id": "Xi-OZ09MjOE-",
        "colab_type": "code",
        "colab": {
          "base_uri": "https://localhost:8080/",
          "height": 456
        },
        "outputId": "87d405d6-af0c-4560-d489-dfd551401815"
      },
      "source": [
        "import spacy\n",
        "from collections import defaultdict\n",
        "from spacy import displacy\n",
        "import pandas as pd\n",
        "\n",
        "texts = [\"When Sebastian Thrun started working on self-driving cars at Google in 2007, few people outside of the company took him seriously.\"\n",
        "         ,\"Twitter will allow employees to work remotely for the rest of this year.\"\n",
        "        ,'It is really hot in Delhi these days.']\n",
        "        # ,'Elon Musk the founder and CEO of SpaceX']\n",
        "\n",
        "SCORE=0.1\n",
        "# Number of alternate analyses to consider. More is slower, and not necessarily better -- you need to experiment on your problem.\n",
        "beam_width = 16\n",
        "# This clips solutions at each step. We multiply the score of the top-ranked action by this value, and use the result as a threshold. This prevents the parser from exploring options that look very unlikely, saving a bit of efficiency. Accuracy may also improve, because we've trained on greedy objective.\n",
        "beam_density = 0.0001 \n",
        "nlp = spacy.load('en_core_web_sm')\n",
        "render_sentences = list(nlp.pipe(texts))\n",
        "print(\"\\n\"+\"*\"*180+\"\\n\")\n",
        "for sent in render_sentences: \n",
        "    displacy.render(sent, style='ent', jupyter=True)\n",
        "    print(\"\\n\"+\"*\"*180+\"\\n\")\n",
        "\n",
        "with nlp.disable_pipes('ner'):\n",
        "    docs = list(nlp.pipe(texts))\n",
        "beams = nlp.entity.beam_parse(docs, beam_width=beam_width, beam_density=beam_density)\n",
        "df=pd.DataFrame(columns=['Entity', 'Name', 'Score'])\n",
        "i=0\n",
        "for doc, beam in zip(docs, beams):\n",
        "    entity_scores = defaultdict(float)\n",
        "    for score, ents in nlp.entity.moves.get_beam_parses(beam):\n",
        "        if score>SCORE:\n",
        "            for start, end, label in ents:       \n",
        "                entity_scores[(start, end, label,doc[start:end])] += score\n",
        "    for key,val in entity_scores.items():\n",
        "        df.loc[i] = [key[2],' '.join([str(i) for i in key[3]]),round(val*100,2)]\n",
        "        i+=1\n",
        "\n",
        "print(df)"
      ],
      "execution_count": 1,
      "outputs": [
        {
          "output_type": "stream",
          "text": [
            "\n",
            "************************************************************************************************************************************************************************************\n",
            "\n"
          ],
          "name": "stdout"
        },
        {
          "output_type": "display_data",
          "data": {
            "text/html": [
              "<div class=\"entities\" style=\"line-height: 2.5; direction: ltr\">When \n",
              "<mark class=\"entity\" style=\"background: #c887fb; padding: 0.45em 0.6em; margin: 0 0.25em; line-height: 1; border-radius: 0.35em;\">\n",
              "    Sebastian\n",
              "    <span style=\"font-size: 0.8em; font-weight: bold; line-height: 1; border-radius: 0.35em; text-transform: uppercase; vertical-align: middle; margin-left: 0.5rem\">NORP</span>\n",
              "</mark>\n",
              " Thrun started working on self-driving cars at \n",
              "<mark class=\"entity\" style=\"background: #7aecec; padding: 0.45em 0.6em; margin: 0 0.25em; line-height: 1; border-radius: 0.35em;\">\n",
              "    Google\n",
              "    <span style=\"font-size: 0.8em; font-weight: bold; line-height: 1; border-radius: 0.35em; text-transform: uppercase; vertical-align: middle; margin-left: 0.5rem\">ORG</span>\n",
              "</mark>\n",
              " in \n",
              "<mark class=\"entity\" style=\"background: #bfe1d9; padding: 0.45em 0.6em; margin: 0 0.25em; line-height: 1; border-radius: 0.35em;\">\n",
              "    2007\n",
              "    <span style=\"font-size: 0.8em; font-weight: bold; line-height: 1; border-radius: 0.35em; text-transform: uppercase; vertical-align: middle; margin-left: 0.5rem\">DATE</span>\n",
              "</mark>\n",
              ", few people outside of the company took him seriously.</div>"
            ],
            "text/plain": [
              "<IPython.core.display.HTML object>"
            ]
          },
          "metadata": {
            "tags": []
          }
        },
        {
          "output_type": "stream",
          "text": [
            "\n",
            "************************************************************************************************************************************************************************************\n",
            "\n"
          ],
          "name": "stdout"
        },
        {
          "output_type": "display_data",
          "data": {
            "text/html": [
              "<div class=\"entities\" style=\"line-height: 2.5; direction: ltr\">Twitter will allow employees to work remotely for the rest of \n",
              "<mark class=\"entity\" style=\"background: #bfe1d9; padding: 0.45em 0.6em; margin: 0 0.25em; line-height: 1; border-radius: 0.35em;\">\n",
              "    this year\n",
              "    <span style=\"font-size: 0.8em; font-weight: bold; line-height: 1; border-radius: 0.35em; text-transform: uppercase; vertical-align: middle; margin-left: 0.5rem\">DATE</span>\n",
              "</mark>\n",
              ".</div>"
            ],
            "text/plain": [
              "<IPython.core.display.HTML object>"
            ]
          },
          "metadata": {
            "tags": []
          }
        },
        {
          "output_type": "stream",
          "text": [
            "\n",
            "************************************************************************************************************************************************************************************\n",
            "\n"
          ],
          "name": "stdout"
        },
        {
          "output_type": "display_data",
          "data": {
            "text/html": [
              "<div class=\"entities\" style=\"line-height: 2.5; direction: ltr\">It is really hot in \n",
              "<mark class=\"entity\" style=\"background: #feca74; padding: 0.45em 0.6em; margin: 0 0.25em; line-height: 1; border-radius: 0.35em;\">\n",
              "    Delhi\n",
              "    <span style=\"font-size: 0.8em; font-weight: bold; line-height: 1; border-radius: 0.35em; text-transform: uppercase; vertical-align: middle; margin-left: 0.5rem\">GPE</span>\n",
              "</mark>\n",
              " \n",
              "<mark class=\"entity\" style=\"background: #bfe1d9; padding: 0.45em 0.6em; margin: 0 0.25em; line-height: 1; border-radius: 0.35em;\">\n",
              "    these days\n",
              "    <span style=\"font-size: 0.8em; font-weight: bold; line-height: 1; border-radius: 0.35em; text-transform: uppercase; vertical-align: middle; margin-left: 0.5rem\">DATE</span>\n",
              "</mark>\n",
              ".</div>"
            ],
            "text/plain": [
              "<IPython.core.display.HTML object>"
            ]
          },
          "metadata": {
            "tags": []
          }
        },
        {
          "output_type": "stream",
          "text": [
            "\n",
            "************************************************************************************************************************************************************************************\n",
            "\n",
            "  Entity             Name  Score\n",
            "0    ORG  Sebastian Thrun  84.68\n",
            "1    ORG           Google  97.60\n",
            "2   DATE             2007  97.60\n",
            "3   NORP        Sebastian  12.92\n",
            "4   DATE        this year  99.70\n",
            "5    GPE            Delhi  98.96\n",
            "6   DATE       these days  98.96\n"
          ],
          "name": "stdout"
        }
      ]
    }
  ]
}